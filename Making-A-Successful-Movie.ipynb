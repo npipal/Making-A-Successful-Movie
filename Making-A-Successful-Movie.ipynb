{
 "cells": [
  {
   "cell_type": "markdown",
   "id": "b2c208e0",
   "metadata": {},
   "source": [
    "# The Data\n",
    "\n",
    "- IMDB Provides Several Files with varied information for Movies, TV Shows, Made for TV Movies, etc.\n",
    "\n",
    "  - Overview/Data Dictionary: https://www.imdb.com/interfaces/\n",
    "  - Downloads page: https://datasets.imdbws.com/\n",
    "\n",
    "\n",
    "\n",
    "- Files of focus:\n",
    " - title.basics.tsv.gz\n",
    " - title.ratings.tsv.gz\n",
    " - title.akas.tsv.gz"
   ]
  },
  {
   "cell_type": "markdown",
   "id": "09da13df",
   "metadata": {},
   "source": [
    "# Specifications\n",
    "\n",
    "- Exclude any movie with missing values for genre or runtime\n",
    "- Include only full-length movies (titleType = \"movie\").\n",
    "- Include only fictional movies (not from documentary genre)\n",
    "- Include only movies that were released 2000 - 2021 (include 2000 and 2021)\n",
    "- Include only movies that were released in the United States"
   ]
  },
  {
   "cell_type": "code",
   "execution_count": 1,
   "id": "7bdf6d8d",
   "metadata": {},
   "outputs": [],
   "source": [
    "import pandas as pd\n",
    "import numpy as np"
   ]
  },
  {
   "cell_type": "code",
   "execution_count": 2,
   "id": "f0312eda",
   "metadata": {},
   "outputs": [],
   "source": [
    "akas_url = 'https://datasets.imdbws.com/title.akas.tsv.gz'\n",
    "basics_url = 'https://datasets.imdbws.com/title.basics.tsv.gz'\n",
    "ratings_url = 'https://datasets.imdbws.com/title.ratings.tsv.gz'"
   ]
  },
  {
   "cell_type": "code",
   "execution_count": 3,
   "id": "354da64a",
   "metadata": {},
   "outputs": [],
   "source": [
    "akas = pd.read_csv(akas_url,sep='\\t', low_memory=False)"
   ]
  },
  {
   "cell_type": "code",
   "execution_count": 4,
   "id": "4c543d4c",
   "metadata": {},
   "outputs": [],
   "source": [
    "basics = pd.read_csv(basics_url,sep='\\t', low_memory=False)"
   ]
  },
  {
   "cell_type": "code",
   "execution_count": 5,
   "id": "88ef2f9a",
   "metadata": {},
   "outputs": [],
   "source": [
    "ratings = pd.read_csv(ratings_url,sep='\\t', low_memory=False)"
   ]
  },
  {
   "cell_type": "markdown",
   "id": "0dd32f99",
   "metadata": {},
   "source": [
    "# Encoding null values from \\N to np.nan"
   ]
  },
  {
   "cell_type": "code",
   "execution_count": 6,
   "id": "a0d83a43",
   "metadata": {},
   "outputs": [],
   "source": [
    "akas = akas.replace({'\\\\N':np.nan})"
   ]
  },
  {
   "cell_type": "code",
   "execution_count": 7,
   "id": "402a71c9",
   "metadata": {},
   "outputs": [],
   "source": [
    "basics = basics.replace({'\\\\N':np.nan})"
   ]
  },
  {
   "cell_type": "code",
   "execution_count": 8,
   "id": "8a9e6e5c",
   "metadata": {},
   "outputs": [],
   "source": [
    "ratings = ratings.replace({'\\\\N':np.nan})"
   ]
  },
  {
   "cell_type": "markdown",
   "id": "132fdddb",
   "metadata": {},
   "source": [
    "# Eliminate movies that are null for runtimeMinutes, genre, startyear"
   ]
  },
  {
   "cell_type": "code",
   "execution_count": 9,
   "id": "192c0941",
   "metadata": {},
   "outputs": [],
   "source": [
    "basics = basics.dropna(subset = ['runtimeMinutes', 'genres', 'startYear'])"
   ]
  },
  {
   "cell_type": "markdown",
   "id": "8ee47270",
   "metadata": {},
   "source": [
    "# Include only full-length movies (titleType = \"movie\")."
   ]
  },
  {
   "cell_type": "code",
   "execution_count": 10,
   "id": "e7650115",
   "metadata": {},
   "outputs": [],
   "source": [
    "basics = basics.loc[basics['titleType'] == 'movie']"
   ]
  },
  {
   "cell_type": "markdown",
   "id": "3f3d0c22",
   "metadata": {},
   "source": [
    "# Include only movies that were released 2000 - 2021 (including 2000 and 2021)"
   ]
  },
  {
   "cell_type": "code",
   "execution_count": 11,
   "id": "6f3230c2",
   "metadata": {},
   "outputs": [],
   "source": [
    "basics['startYear'] = basics['startYear'].astype(int)"
   ]
  },
  {
   "cell_type": "code",
   "execution_count": 12,
   "id": "a21bb68a",
   "metadata": {},
   "outputs": [],
   "source": [
    "basics = basics.loc[(basics['startYear'] >= 2000) & (basics['startYear'] <= 2021)]"
   ]
  },
  {
   "cell_type": "markdown",
   "id": "3cff651c",
   "metadata": {},
   "source": [
    "# Only include fictional movies (not including documentaries)"
   ]
  },
  {
   "cell_type": "code",
   "execution_count": 13,
   "id": "d8386186",
   "metadata": {},
   "outputs": [],
   "source": [
    "# Exclude movies that are included in the documentary category.\n",
    "is_documentary = basics['genres'].str.contains('documentary',case=False)\n",
    "basics = basics[~is_documentary]"
   ]
  },
  {
   "cell_type": "markdown",
   "id": "06b14e85",
   "metadata": {},
   "source": [
    "# Include only movies that were released in the United States"
   ]
  },
  {
   "cell_type": "code",
   "execution_count": 14,
   "id": "74ac3356",
   "metadata": {},
   "outputs": [
    {
     "data": {
      "text/plain": [
       "34805      True\n",
       "61119      True\n",
       "67672      True\n",
       "77968      True\n",
       "86806      True\n",
       "           ... \n",
       "8870259    True\n",
       "8870268    True\n",
       "8870307    True\n",
       "8870352    True\n",
       "8870436    True\n",
       "Name: tconst, Length: 135550, dtype: bool"
      ]
     },
     "execution_count": 14,
     "metadata": {},
     "output_type": "execute_result"
    }
   ],
   "source": [
    "# Filter the basics table down to only include the US by using the filter akas dataframe\n",
    "keepers = basics['tconst'].isin(akas['titleId'])\n",
    "keepers"
   ]
  },
  {
   "cell_type": "code",
   "execution_count": 15,
   "id": "6b0b990d",
   "metadata": {},
   "outputs": [
    {
     "data": {
      "text/html": [
       "<div>\n",
       "<style scoped>\n",
       "    .dataframe tbody tr th:only-of-type {\n",
       "        vertical-align: middle;\n",
       "    }\n",
       "\n",
       "    .dataframe tbody tr th {\n",
       "        vertical-align: top;\n",
       "    }\n",
       "\n",
       "    .dataframe thead th {\n",
       "        text-align: right;\n",
       "    }\n",
       "</style>\n",
       "<table border=\"1\" class=\"dataframe\">\n",
       "  <thead>\n",
       "    <tr style=\"text-align: right;\">\n",
       "      <th></th>\n",
       "      <th>tconst</th>\n",
       "      <th>titleType</th>\n",
       "      <th>primaryTitle</th>\n",
       "      <th>originalTitle</th>\n",
       "      <th>isAdult</th>\n",
       "      <th>startYear</th>\n",
       "      <th>endYear</th>\n",
       "      <th>runtimeMinutes</th>\n",
       "      <th>genres</th>\n",
       "    </tr>\n",
       "  </thead>\n",
       "  <tbody>\n",
       "    <tr>\n",
       "      <th>34805</th>\n",
       "      <td>tt0035423</td>\n",
       "      <td>movie</td>\n",
       "      <td>Kate &amp; Leopold</td>\n",
       "      <td>Kate &amp; Leopold</td>\n",
       "      <td>0</td>\n",
       "      <td>2001</td>\n",
       "      <td>NaN</td>\n",
       "      <td>118</td>\n",
       "      <td>Comedy,Fantasy,Romance</td>\n",
       "    </tr>\n",
       "    <tr>\n",
       "      <th>61119</th>\n",
       "      <td>tt0062336</td>\n",
       "      <td>movie</td>\n",
       "      <td>The Tango of the Widower and Its Distorting Mi...</td>\n",
       "      <td>El Tango del Viudo y Su Espejo Deformante</td>\n",
       "      <td>0</td>\n",
       "      <td>2020</td>\n",
       "      <td>NaN</td>\n",
       "      <td>70</td>\n",
       "      <td>Drama</td>\n",
       "    </tr>\n",
       "    <tr>\n",
       "      <th>67672</th>\n",
       "      <td>tt0069049</td>\n",
       "      <td>movie</td>\n",
       "      <td>The Other Side of the Wind</td>\n",
       "      <td>The Other Side of the Wind</td>\n",
       "      <td>0</td>\n",
       "      <td>2018</td>\n",
       "      <td>NaN</td>\n",
       "      <td>122</td>\n",
       "      <td>Drama</td>\n",
       "    </tr>\n",
       "    <tr>\n",
       "      <th>77968</th>\n",
       "      <td>tt0079644</td>\n",
       "      <td>movie</td>\n",
       "      <td>November 1828</td>\n",
       "      <td>November 1828</td>\n",
       "      <td>0</td>\n",
       "      <td>2001</td>\n",
       "      <td>NaN</td>\n",
       "      <td>140</td>\n",
       "      <td>Drama,War</td>\n",
       "    </tr>\n",
       "    <tr>\n",
       "      <th>86806</th>\n",
       "      <td>tt0088751</td>\n",
       "      <td>movie</td>\n",
       "      <td>The Naked Monster</td>\n",
       "      <td>The Naked Monster</td>\n",
       "      <td>0</td>\n",
       "      <td>2005</td>\n",
       "      <td>NaN</td>\n",
       "      <td>100</td>\n",
       "      <td>Comedy,Horror,Sci-Fi</td>\n",
       "    </tr>\n",
       "    <tr>\n",
       "      <th>...</th>\n",
       "      <td>...</td>\n",
       "      <td>...</td>\n",
       "      <td>...</td>\n",
       "      <td>...</td>\n",
       "      <td>...</td>\n",
       "      <td>...</td>\n",
       "      <td>...</td>\n",
       "      <td>...</td>\n",
       "      <td>...</td>\n",
       "    </tr>\n",
       "    <tr>\n",
       "      <th>8870259</th>\n",
       "      <td>tt9916170</td>\n",
       "      <td>movie</td>\n",
       "      <td>The Rehearsal</td>\n",
       "      <td>O Ensaio</td>\n",
       "      <td>0</td>\n",
       "      <td>2019</td>\n",
       "      <td>NaN</td>\n",
       "      <td>51</td>\n",
       "      <td>Drama</td>\n",
       "    </tr>\n",
       "    <tr>\n",
       "      <th>8870268</th>\n",
       "      <td>tt9916190</td>\n",
       "      <td>movie</td>\n",
       "      <td>Safeguard</td>\n",
       "      <td>Safeguard</td>\n",
       "      <td>0</td>\n",
       "      <td>2020</td>\n",
       "      <td>NaN</td>\n",
       "      <td>90</td>\n",
       "      <td>Action,Adventure,Thriller</td>\n",
       "    </tr>\n",
       "    <tr>\n",
       "      <th>8870307</th>\n",
       "      <td>tt9916270</td>\n",
       "      <td>movie</td>\n",
       "      <td>Il talento del calabrone</td>\n",
       "      <td>Il talento del calabrone</td>\n",
       "      <td>0</td>\n",
       "      <td>2020</td>\n",
       "      <td>NaN</td>\n",
       "      <td>84</td>\n",
       "      <td>Thriller</td>\n",
       "    </tr>\n",
       "    <tr>\n",
       "      <th>8870352</th>\n",
       "      <td>tt9916362</td>\n",
       "      <td>movie</td>\n",
       "      <td>Coven</td>\n",
       "      <td>Akelarre</td>\n",
       "      <td>0</td>\n",
       "      <td>2020</td>\n",
       "      <td>NaN</td>\n",
       "      <td>92</td>\n",
       "      <td>Drama,History</td>\n",
       "    </tr>\n",
       "    <tr>\n",
       "      <th>8870436</th>\n",
       "      <td>tt9916538</td>\n",
       "      <td>movie</td>\n",
       "      <td>Kuambil Lagi Hatiku</td>\n",
       "      <td>Kuambil Lagi Hatiku</td>\n",
       "      <td>0</td>\n",
       "      <td>2019</td>\n",
       "      <td>NaN</td>\n",
       "      <td>123</td>\n",
       "      <td>Drama</td>\n",
       "    </tr>\n",
       "  </tbody>\n",
       "</table>\n",
       "<p>134942 rows × 9 columns</p>\n",
       "</div>"
      ],
      "text/plain": [
       "            tconst titleType  \\\n",
       "34805    tt0035423     movie   \n",
       "61119    tt0062336     movie   \n",
       "67672    tt0069049     movie   \n",
       "77968    tt0079644     movie   \n",
       "86806    tt0088751     movie   \n",
       "...            ...       ...   \n",
       "8870259  tt9916170     movie   \n",
       "8870268  tt9916190     movie   \n",
       "8870307  tt9916270     movie   \n",
       "8870352  tt9916362     movie   \n",
       "8870436  tt9916538     movie   \n",
       "\n",
       "                                              primaryTitle  \\\n",
       "34805                                       Kate & Leopold   \n",
       "61119    The Tango of the Widower and Its Distorting Mi...   \n",
       "67672                           The Other Side of the Wind   \n",
       "77968                                        November 1828   \n",
       "86806                                    The Naked Monster   \n",
       "...                                                    ...   \n",
       "8870259                                      The Rehearsal   \n",
       "8870268                                          Safeguard   \n",
       "8870307                           Il talento del calabrone   \n",
       "8870352                                              Coven   \n",
       "8870436                                Kuambil Lagi Hatiku   \n",
       "\n",
       "                                     originalTitle isAdult  startYear endYear  \\\n",
       "34805                               Kate & Leopold       0       2001     NaN   \n",
       "61119    El Tango del Viudo y Su Espejo Deformante       0       2020     NaN   \n",
       "67672                   The Other Side of the Wind       0       2018     NaN   \n",
       "77968                                November 1828       0       2001     NaN   \n",
       "86806                            The Naked Monster       0       2005     NaN   \n",
       "...                                            ...     ...        ...     ...   \n",
       "8870259                                   O Ensaio       0       2019     NaN   \n",
       "8870268                                  Safeguard       0       2020     NaN   \n",
       "8870307                   Il talento del calabrone       0       2020     NaN   \n",
       "8870352                                   Akelarre       0       2020     NaN   \n",
       "8870436                        Kuambil Lagi Hatiku       0       2019     NaN   \n",
       "\n",
       "        runtimeMinutes                     genres  \n",
       "34805              118     Comedy,Fantasy,Romance  \n",
       "61119               70                      Drama  \n",
       "67672              122                      Drama  \n",
       "77968              140                  Drama,War  \n",
       "86806              100       Comedy,Horror,Sci-Fi  \n",
       "...                ...                        ...  \n",
       "8870259             51                      Drama  \n",
       "8870268             90  Action,Adventure,Thriller  \n",
       "8870307             84                   Thriller  \n",
       "8870352             92              Drama,History  \n",
       "8870436            123                      Drama  \n",
       "\n",
       "[134942 rows x 9 columns]"
      ]
     },
     "execution_count": 15,
     "metadata": {},
     "output_type": "execute_result"
    }
   ],
   "source": [
    "basics = basics[keepers]\n",
    "basics"
   ]
  },
  {
   "cell_type": "code",
   "execution_count": 16,
   "id": "17ef5c6d",
   "metadata": {},
   "outputs": [],
   "source": [
    "akas = akas.loc[akas['region'] == 'US']"
   ]
  },
  {
   "cell_type": "code",
   "execution_count": 17,
   "id": "9b93d25f",
   "metadata": {},
   "outputs": [],
   "source": [
    "basics = basics.loc[basics['tconst'].isin(akas['titleId'])]"
   ]
  },
  {
   "cell_type": "code",
   "execution_count": 18,
   "id": "8568a66f",
   "metadata": {},
   "outputs": [],
   "source": [
    "ratings = ratings.loc[ratings['tconst'].isin(basics['tconst'])]"
   ]
  },
  {
   "cell_type": "code",
   "execution_count": 19,
   "id": "d77a7f35",
   "metadata": {},
   "outputs": [
    {
     "data": {
      "text/html": [
       "<div>\n",
       "<style scoped>\n",
       "    .dataframe tbody tr th:only-of-type {\n",
       "        vertical-align: middle;\n",
       "    }\n",
       "\n",
       "    .dataframe tbody tr th {\n",
       "        vertical-align: top;\n",
       "    }\n",
       "\n",
       "    .dataframe thead th {\n",
       "        text-align: right;\n",
       "    }\n",
       "</style>\n",
       "<table border=\"1\" class=\"dataframe\">\n",
       "  <thead>\n",
       "    <tr style=\"text-align: right;\">\n",
       "      <th></th>\n",
       "      <th>tconst</th>\n",
       "      <th>titleType</th>\n",
       "      <th>primaryTitle</th>\n",
       "      <th>originalTitle</th>\n",
       "      <th>isAdult</th>\n",
       "      <th>startYear</th>\n",
       "      <th>endYear</th>\n",
       "      <th>runtimeMinutes</th>\n",
       "      <th>genres</th>\n",
       "    </tr>\n",
       "  </thead>\n",
       "  <tbody>\n",
       "    <tr>\n",
       "      <th>34805</th>\n",
       "      <td>tt0035423</td>\n",
       "      <td>movie</td>\n",
       "      <td>Kate &amp; Leopold</td>\n",
       "      <td>Kate &amp; Leopold</td>\n",
       "      <td>0</td>\n",
       "      <td>2001</td>\n",
       "      <td>NaN</td>\n",
       "      <td>118</td>\n",
       "      <td>Comedy,Fantasy,Romance</td>\n",
       "    </tr>\n",
       "    <tr>\n",
       "      <th>61119</th>\n",
       "      <td>tt0062336</td>\n",
       "      <td>movie</td>\n",
       "      <td>The Tango of the Widower and Its Distorting Mi...</td>\n",
       "      <td>El Tango del Viudo y Su Espejo Deformante</td>\n",
       "      <td>0</td>\n",
       "      <td>2020</td>\n",
       "      <td>NaN</td>\n",
       "      <td>70</td>\n",
       "      <td>Drama</td>\n",
       "    </tr>\n",
       "    <tr>\n",
       "      <th>67672</th>\n",
       "      <td>tt0069049</td>\n",
       "      <td>movie</td>\n",
       "      <td>The Other Side of the Wind</td>\n",
       "      <td>The Other Side of the Wind</td>\n",
       "      <td>0</td>\n",
       "      <td>2018</td>\n",
       "      <td>NaN</td>\n",
       "      <td>122</td>\n",
       "      <td>Drama</td>\n",
       "    </tr>\n",
       "    <tr>\n",
       "      <th>86806</th>\n",
       "      <td>tt0088751</td>\n",
       "      <td>movie</td>\n",
       "      <td>The Naked Monster</td>\n",
       "      <td>The Naked Monster</td>\n",
       "      <td>0</td>\n",
       "      <td>2005</td>\n",
       "      <td>NaN</td>\n",
       "      <td>100</td>\n",
       "      <td>Comedy,Horror,Sci-Fi</td>\n",
       "    </tr>\n",
       "    <tr>\n",
       "      <th>91077</th>\n",
       "      <td>tt0093119</td>\n",
       "      <td>movie</td>\n",
       "      <td>Grizzly II: Revenge</td>\n",
       "      <td>Grizzly II: The Predator</td>\n",
       "      <td>0</td>\n",
       "      <td>2020</td>\n",
       "      <td>NaN</td>\n",
       "      <td>74</td>\n",
       "      <td>Horror,Music,Thriller</td>\n",
       "    </tr>\n",
       "  </tbody>\n",
       "</table>\n",
       "</div>"
      ],
      "text/plain": [
       "          tconst titleType                                       primaryTitle  \\\n",
       "34805  tt0035423     movie                                     Kate & Leopold   \n",
       "61119  tt0062336     movie  The Tango of the Widower and Its Distorting Mi...   \n",
       "67672  tt0069049     movie                         The Other Side of the Wind   \n",
       "86806  tt0088751     movie                                  The Naked Monster   \n",
       "91077  tt0093119     movie                                Grizzly II: Revenge   \n",
       "\n",
       "                                   originalTitle isAdult  startYear endYear  \\\n",
       "34805                             Kate & Leopold       0       2001     NaN   \n",
       "61119  El Tango del Viudo y Su Espejo Deformante       0       2020     NaN   \n",
       "67672                 The Other Side of the Wind       0       2018     NaN   \n",
       "86806                          The Naked Monster       0       2005     NaN   \n",
       "91077                   Grizzly II: The Predator       0       2020     NaN   \n",
       "\n",
       "      runtimeMinutes                  genres  \n",
       "34805            118  Comedy,Fantasy,Romance  \n",
       "61119             70                   Drama  \n",
       "67672            122                   Drama  \n",
       "86806            100    Comedy,Horror,Sci-Fi  \n",
       "91077             74   Horror,Music,Thriller  "
      ]
     },
     "execution_count": 19,
     "metadata": {},
     "output_type": "execute_result"
    }
   ],
   "source": [
    "basics.head()"
   ]
  },
  {
   "cell_type": "code",
   "execution_count": 20,
   "id": "dca7f4e0",
   "metadata": {},
   "outputs": [
    {
     "data": {
      "text/plain": [
       "[]"
      ]
     },
     "execution_count": 20,
     "metadata": {},
     "output_type": "execute_result"
    }
   ],
   "source": [
    "#making new folder with os\n",
    "import os\n",
    "os.makedirs('Data/',exist_ok=True) \n",
    "# Confirm folder created\n",
    "os.listdir(\"Data/\")"
   ]
  },
  {
   "cell_type": "code",
   "execution_count": 21,
   "id": "1afb6d0a",
   "metadata": {},
   "outputs": [],
   "source": [
    "akas.to_csv(\"Data/akas.csv.gz\",compression='gzip',index=False)"
   ]
  },
  {
   "cell_type": "code",
   "execution_count": 22,
   "id": "9d3fdcfe",
   "metadata": {},
   "outputs": [],
   "source": [
    "basics.to_csv(\"Data/basics.csv.gz\",compression='gzip',index=False)"
   ]
  },
  {
   "cell_type": "code",
   "execution_count": 23,
   "id": "42b53be2",
   "metadata": {},
   "outputs": [],
   "source": [
    "ratings.to_csv(\"Data/ratings.csv.gz\",compression='gzip',index=False)"
   ]
  },
  {
   "cell_type": "code",
   "execution_count": 24,
   "id": "7e457f77",
   "metadata": {},
   "outputs": [
    {
     "data": {
      "text/html": [
       "<div>\n",
       "<style scoped>\n",
       "    .dataframe tbody tr th:only-of-type {\n",
       "        vertical-align: middle;\n",
       "    }\n",
       "\n",
       "    .dataframe tbody tr th {\n",
       "        vertical-align: top;\n",
       "    }\n",
       "\n",
       "    .dataframe thead th {\n",
       "        text-align: right;\n",
       "    }\n",
       "</style>\n",
       "<table border=\"1\" class=\"dataframe\">\n",
       "  <thead>\n",
       "    <tr style=\"text-align: right;\">\n",
       "      <th></th>\n",
       "      <th>tconst</th>\n",
       "      <th>titleType</th>\n",
       "      <th>primaryTitle</th>\n",
       "      <th>originalTitle</th>\n",
       "      <th>isAdult</th>\n",
       "      <th>startYear</th>\n",
       "      <th>endYear</th>\n",
       "      <th>runtimeMinutes</th>\n",
       "      <th>genres</th>\n",
       "    </tr>\n",
       "  </thead>\n",
       "  <tbody>\n",
       "    <tr>\n",
       "      <th>0</th>\n",
       "      <td>tt0035423</td>\n",
       "      <td>movie</td>\n",
       "      <td>Kate &amp; Leopold</td>\n",
       "      <td>Kate &amp; Leopold</td>\n",
       "      <td>0</td>\n",
       "      <td>2001</td>\n",
       "      <td>NaN</td>\n",
       "      <td>118</td>\n",
       "      <td>Comedy,Fantasy,Romance</td>\n",
       "    </tr>\n",
       "    <tr>\n",
       "      <th>1</th>\n",
       "      <td>tt0062336</td>\n",
       "      <td>movie</td>\n",
       "      <td>The Tango of the Widower and Its Distorting Mi...</td>\n",
       "      <td>El Tango del Viudo y Su Espejo Deformante</td>\n",
       "      <td>0</td>\n",
       "      <td>2020</td>\n",
       "      <td>NaN</td>\n",
       "      <td>70</td>\n",
       "      <td>Drama</td>\n",
       "    </tr>\n",
       "    <tr>\n",
       "      <th>2</th>\n",
       "      <td>tt0069049</td>\n",
       "      <td>movie</td>\n",
       "      <td>The Other Side of the Wind</td>\n",
       "      <td>The Other Side of the Wind</td>\n",
       "      <td>0</td>\n",
       "      <td>2018</td>\n",
       "      <td>NaN</td>\n",
       "      <td>122</td>\n",
       "      <td>Drama</td>\n",
       "    </tr>\n",
       "    <tr>\n",
       "      <th>3</th>\n",
       "      <td>tt0088751</td>\n",
       "      <td>movie</td>\n",
       "      <td>The Naked Monster</td>\n",
       "      <td>The Naked Monster</td>\n",
       "      <td>0</td>\n",
       "      <td>2005</td>\n",
       "      <td>NaN</td>\n",
       "      <td>100</td>\n",
       "      <td>Comedy,Horror,Sci-Fi</td>\n",
       "    </tr>\n",
       "    <tr>\n",
       "      <th>4</th>\n",
       "      <td>tt0093119</td>\n",
       "      <td>movie</td>\n",
       "      <td>Grizzly II: Revenge</td>\n",
       "      <td>Grizzly II: The Predator</td>\n",
       "      <td>0</td>\n",
       "      <td>2020</td>\n",
       "      <td>NaN</td>\n",
       "      <td>74</td>\n",
       "      <td>Horror,Music,Thriller</td>\n",
       "    </tr>\n",
       "  </tbody>\n",
       "</table>\n",
       "</div>"
      ],
      "text/plain": [
       "      tconst titleType                                       primaryTitle  \\\n",
       "0  tt0035423     movie                                     Kate & Leopold   \n",
       "1  tt0062336     movie  The Tango of the Widower and Its Distorting Mi...   \n",
       "2  tt0069049     movie                         The Other Side of the Wind   \n",
       "3  tt0088751     movie                                  The Naked Monster   \n",
       "4  tt0093119     movie                                Grizzly II: Revenge   \n",
       "\n",
       "                               originalTitle  isAdult  startYear  endYear  \\\n",
       "0                             Kate & Leopold        0       2001      NaN   \n",
       "1  El Tango del Viudo y Su Espejo Deformante        0       2020      NaN   \n",
       "2                 The Other Side of the Wind        0       2018      NaN   \n",
       "3                          The Naked Monster        0       2005      NaN   \n",
       "4                   Grizzly II: The Predator        0       2020      NaN   \n",
       "\n",
       "   runtimeMinutes                  genres  \n",
       "0             118  Comedy,Fantasy,Romance  \n",
       "1              70                   Drama  \n",
       "2             122                   Drama  \n",
       "3             100    Comedy,Horror,Sci-Fi  \n",
       "4              74   Horror,Music,Thriller  "
      ]
     },
     "execution_count": 24,
     "metadata": {},
     "output_type": "execute_result"
    }
   ],
   "source": [
    "basics = pd.read_csv(\"Data/basics.csv.gz\", low_memory = False)\n",
    "basics.head()"
   ]
  },
  {
   "cell_type": "code",
   "execution_count": null,
   "id": "43cf90da",
   "metadata": {},
   "outputs": [],
   "source": []
  }
 ],
 "metadata": {
  "kernelspec": {
   "display_name": "Python (dojo-env)",
   "language": "python",
   "name": "dojo-env"
  },
  "language_info": {
   "codemirror_mode": {
    "name": "ipython",
    "version": 3
   },
   "file_extension": ".py",
   "mimetype": "text/x-python",
   "name": "python",
   "nbconvert_exporter": "python",
   "pygments_lexer": "ipython3",
   "version": "3.7.12"
  },
  "toc": {
   "base_numbering": 1,
   "nav_menu": {},
   "number_sections": false,
   "sideBar": true,
   "skip_h1_title": false,
   "title_cell": "Table of Contents",
   "title_sidebar": "Contents",
   "toc_cell": false,
   "toc_position": {},
   "toc_section_display": true,
   "toc_window_display": false
  }
 },
 "nbformat": 4,
 "nbformat_minor": 5
}
