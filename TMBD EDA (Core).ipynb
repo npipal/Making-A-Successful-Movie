{
 "cells": [
  {
   "cell_type": "markdown",
   "id": "3f4121c1",
   "metadata": {},
   "source": [
    "# TMBD EDA (Core)\n",
    "\n",
    "- Load in your csv.gz's of results for each year extracted.\n",
    "- Concatenate the data into 1 dataframe for the remainder of the analysis.\n",
    "- Once you have your data from the API, they would like you to perform some light EDA to show:\n",
    "  - How many movies had at least some valid financial information (values > 0 for budget OR revenue)?\n",
    "  - Please exclude any movies with 0's for budget AND revenue from the remaining visualizations.\n",
    "  - How many movies are there in each of the certification categories (G/PG/PG-13/R)?\n",
    "  - What is the average revenue per certification category?\n",
    "  - What is the average budget per certification category?"
   ]
  },
  {
   "cell_type": "code",
   "execution_count": 1,
   "id": "6c89465c",
   "metadata": {},
   "outputs": [],
   "source": [
    "# Imports\n",
    "import numpy as np\n",
    "import pandas as pd\n",
    "import matplotlib.pyplot as plt\n",
    "import seaborn as sns"
   ]
  },
  {
   "cell_type": "code",
   "execution_count": 2,
   "id": "f1927047",
   "metadata": {},
   "outputs": [],
   "source": [
    "#Load in data from 2000 and 2001\n",
    "year2001_df = pd.read_csv(\"Data/final_tmdb_data_2001.csv.gz\")"
   ]
  },
  {
   "cell_type": "markdown",
   "id": "0e12911d",
   "metadata": {},
   "source": [
    "# How many movies had at least some valid financial information (values > 0 for budget OR revenue)?"
   ]
  },
  {
   "cell_type": "code",
   "execution_count": 3,
   "id": "6d09068e",
   "metadata": {},
   "outputs": [
    {
     "data": {
      "text/plain": [
       "322"
      ]
     },
     "execution_count": 3,
     "metadata": {},
     "output_type": "execute_result"
    }
   ],
   "source": [
    "financialdf = year2001_df.loc[(year2001_df['budget'] > 0) | (year2001_df['revenue'] > 0)]\n",
    "financialdf.shape[0]"
   ]
  },
  {
   "cell_type": "markdown",
   "id": "d8e910db",
   "metadata": {},
   "source": [
    "# How many movies are there in each of the certification categories (G/PG/PG-13/R)?"
   ]
  },
  {
   "cell_type": "code",
   "execution_count": 4,
   "id": "16c83690",
   "metadata": {},
   "outputs": [
    {
     "data": {
      "text/plain": [
       "R        118\n",
       "PG-13     70\n",
       "PG        18\n",
       "NR         8\n",
       "G          6\n",
       "Name: certification, dtype: int64"
      ]
     },
     "execution_count": 4,
     "metadata": {},
     "output_type": "execute_result"
    }
   ],
   "source": [
    "financialdf['certification'].value_counts()"
   ]
  },
  {
   "cell_type": "code",
   "execution_count": 5,
   "id": "6537c31d",
   "metadata": {},
   "outputs": [
    {
     "data": {
      "text/plain": [
       "certification\n",
       "G        1.481958e+08\n",
       "NR       7.664116e+06\n",
       "PG       1.418149e+08\n",
       "PG-13    9.684948e+07\n",
       "R        3.502943e+07\n",
       "Name: revenue, dtype: float64"
      ]
     },
     "execution_count": 5,
     "metadata": {},
     "output_type": "execute_result"
    }
   ],
   "source": [
    "revenue_df = financialdf.groupby('certification')['revenue'].mean()\n",
    "revenue_df.round(2)"
   ]
  },
  {
   "cell_type": "code",
   "execution_count": 6,
   "id": "cb80cf1a",
   "metadata": {},
   "outputs": [
    {
     "data": {
      "image/png": "[encoded data removed]",
      "text/plain": [
       "<Figure size 432x288 with 1 Axes>"
      ]
     },
     "metadata": {
      "needs_background": "light"
     },
     "output_type": "display_data"
    }
   ],
   "source": [
    "ax = sns.barplot (y=revenue_df.index, x=revenue_df.values.round(1), orient = 'h')\n",
    "plt.title('Average Revenue per Certification Category', fontsize=20)\n",
    "plt.xlabel('Revenue in Dollars', fontsize=12)\n",
    "plt.ylabel('Certification', fontsize=12)\n",
    "plt.xticks(fontsize=8)\n",
    "plt.yticks(fontsize=12)\n",
    "plt.tight_layout()\n",
    "plt.show;"
   ]
  },
  {
   "cell_type": "markdown",
   "id": "b4ee92d7",
   "metadata": {},
   "source": [
    "# What is the average budget per certification category?"
   ]
  },
  {
   "cell_type": "code",
   "execution_count": 7,
   "id": "a513c501",
   "metadata": {},
   "outputs": [
    {
     "data": {
      "text/plain": [
       "certification\n",
       "G        35333333.33\n",
       "NR        2287500.00\n",
       "PG       41991666.94\n",
       "PG-13    40962970.39\n",
       "R        21204741.10\n",
       "Name: budget, dtype: float64"
      ]
     },
     "execution_count": 7,
     "metadata": {},
     "output_type": "execute_result"
    }
   ],
   "source": [
    "budget_df = financialdf.groupby('certification')['budget'].mean()\n",
    "budget_df.round(2)"
   ]
  },
  {
   "cell_type": "code",
   "execution_count": 8,
   "id": "99baab42",
   "metadata": {},
   "outputs": [
    {
     "data": {
      "image/png": "[encoded data removed]",
      "text/plain": [
       "<Figure size 432x288 with 1 Axes>"
      ]
     },
     "metadata": {
      "needs_background": "light"
     },
     "output_type": "display_data"
    }
   ],
   "source": [
    "ax = sns.barplot (y=budget_df.index, x=budget_df.values.round(1), orient = 'h')\n",
    "plt.title('Average Budget per Certification Category', fontsize=20)\n",
    "plt.xlabel('Budget in Dollars', fontsize=12)\n",
    "plt.ylabel('Certification', fontsize=12)\n",
    "plt.xticks(fontsize=8)\n",
    "plt.yticks(fontsize=12)\n",
    "plt.tight_layout()\n",
    "plt.show;"
   ]
  }
 ],
 "metadata": {
  "kernelspec": {
   "display_name": "Python (dojo-env)",
   "language": "python",
   "name": "dojo-env"
  },
  "language_info": {
   "codemirror_mode": {
    "name": "ipython",
    "version": 3
   },
   "file_extension": ".py",
   "mimetype": "text/x-python",
   "name": "python",
   "nbconvert_exporter": "python",
   "pygments_lexer": "ipython3",
   "version": "3.7.12"
  },
  "toc": {
   "base_numbering": 1,
   "nav_menu": {},
   "number_sections": false,
   "sideBar": true,
   "skip_h1_title": false,
   "title_cell": "Table of Contents",
   "title_sidebar": "Contents",
   "toc_cell": false,
   "toc_position": {},
   "toc_section_display": true,
   "toc_window_display": false
  }
 },
 "nbformat": 4,
 "nbformat_minor": 5
}
